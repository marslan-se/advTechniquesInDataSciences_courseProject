{
  "nbformat": 4,
  "nbformat_minor": 0,
  "metadata": {
    "colab": {
      "provenance": []
    },
    "kernelspec": {
      "name": "python3",
      "display_name": "Python 3"
    },
    "language_info": {
      "name": "python"
    }
  },
  "cells": [
    {
      "cell_type": "markdown",
      "source": [
        "**Mount the Drive**"
      ],
      "metadata": {
        "id": "VbB84hg9sMI7"
      }
    },
    {
      "cell_type": "code",
      "execution_count": null,
      "metadata": {
        "colab": {
          "base_uri": "https://localhost:8080/"
        },
        "id": "C4FwDpiksHhS",
        "outputId": "a95cb16d-2976-499f-b839-6ba605087059"
      },
      "outputs": [
        {
          "output_type": "stream",
          "name": "stdout",
          "text": [
            "Drive already mounted at /content/drive; to attempt to forcibly remount, call drive.mount(\"/content/drive\", force_remount=True).\n"
          ]
        }
      ],
      "source": [
        "# Import the Module\n",
        "from google.colab import drive\n",
        "\n",
        "# Mount the Drive with Google Colab\n",
        "drive.mount('/content/drive')"
      ]
    },
    {
      "cell_type": "markdown",
      "source": [
        "**Dataset**"
      ],
      "metadata": {
        "id": "sagXSgXUscZH"
      }
    },
    {
      "cell_type": "code",
      "source": [
        "# Import the Module\n",
        "import numpy as np\n",
        "import pandas as pd\n",
        "\n",
        "# Read the Dataset using CSV File\n",
        "dataset = pd.read_csv(\"/content/drive/MyDrive/world_mortality.csv\")\n",
        "\n",
        "# Display the Data from the Dataset\n",
        "dataset.sample(3)"
      ],
      "metadata": {
        "colab": {
          "base_uri": "https://localhost:8080/",
          "height": 143
        },
        "id": "FPwubKUUsbPk",
        "outputId": "194f5f5f-d0b2-40d0-e864-d24ba9afef42"
      },
      "execution_count": null,
      "outputs": [
        {
          "output_type": "execute_result",
          "data": {
            "text/plain": [
              "      iso3c country_name  year  time time_unit  deaths\n",
              "16894   LUX   Luxembourg  2015    41    weekly    68.0\n",
              "11101   GRL    Greenland  2017     6   monthly    40.0\n",
              "26829   SVN     Slovenia  2018     6    weekly   419.0"
            ],
            "text/html": [
              "\n",
              "  <div id=\"df-fe4c5bd6-8290-4ddc-a807-40177f668672\" class=\"colab-df-container\">\n",
              "    <div>\n",
              "<style scoped>\n",
              "    .dataframe tbody tr th:only-of-type {\n",
              "        vertical-align: middle;\n",
              "    }\n",
              "\n",
              "    .dataframe tbody tr th {\n",
              "        vertical-align: top;\n",
              "    }\n",
              "\n",
              "    .dataframe thead th {\n",
              "        text-align: right;\n",
              "    }\n",
              "</style>\n",
              "<table border=\"1\" class=\"dataframe\">\n",
              "  <thead>\n",
              "    <tr style=\"text-align: right;\">\n",
              "      <th></th>\n",
              "      <th>iso3c</th>\n",
              "      <th>country_name</th>\n",
              "      <th>year</th>\n",
              "      <th>time</th>\n",
              "      <th>time_unit</th>\n",
              "      <th>deaths</th>\n",
              "    </tr>\n",
              "  </thead>\n",
              "  <tbody>\n",
              "    <tr>\n",
              "      <th>16894</th>\n",
              "      <td>LUX</td>\n",
              "      <td>Luxembourg</td>\n",
              "      <td>2015</td>\n",
              "      <td>41</td>\n",
              "      <td>weekly</td>\n",
              "      <td>68.0</td>\n",
              "    </tr>\n",
              "    <tr>\n",
              "      <th>11101</th>\n",
              "      <td>GRL</td>\n",
              "      <td>Greenland</td>\n",
              "      <td>2017</td>\n",
              "      <td>6</td>\n",
              "      <td>monthly</td>\n",
              "      <td>40.0</td>\n",
              "    </tr>\n",
              "    <tr>\n",
              "      <th>26829</th>\n",
              "      <td>SVN</td>\n",
              "      <td>Slovenia</td>\n",
              "      <td>2018</td>\n",
              "      <td>6</td>\n",
              "      <td>weekly</td>\n",
              "      <td>419.0</td>\n",
              "    </tr>\n",
              "  </tbody>\n",
              "</table>\n",
              "</div>\n",
              "    <div class=\"colab-df-buttons\">\n",
              "\n",
              "  <div class=\"colab-df-container\">\n",
              "    <button class=\"colab-df-convert\" onclick=\"convertToInteractive('df-fe4c5bd6-8290-4ddc-a807-40177f668672')\"\n",
              "            title=\"Convert this dataframe to an interactive table.\"\n",
              "            style=\"display:none;\">\n",
              "\n",
              "  <svg xmlns=\"http://www.w3.org/2000/svg\" height=\"24px\" viewBox=\"0 -960 960 960\">\n",
              "    <path d=\"M120-120v-720h720v720H120Zm60-500h600v-160H180v160Zm220 220h160v-160H400v160Zm0 220h160v-160H400v160ZM180-400h160v-160H180v160Zm440 0h160v-160H620v160ZM180-180h160v-160H180v160Zm440 0h160v-160H620v160Z\"/>\n",
              "  </svg>\n",
              "    </button>\n",
              "\n",
              "  <style>\n",
              "    .colab-df-container {\n",
              "      display:flex;\n",
              "      gap: 12px;\n",
              "    }\n",
              "\n",
              "    .colab-df-convert {\n",
              "      background-color: #E8F0FE;\n",
              "      border: none;\n",
              "      border-radius: 50%;\n",
              "      cursor: pointer;\n",
              "      display: none;\n",
              "      fill: #1967D2;\n",
              "      height: 32px;\n",
              "      padding: 0 0 0 0;\n",
              "      width: 32px;\n",
              "    }\n",
              "\n",
              "    .colab-df-convert:hover {\n",
              "      background-color: #E2EBFA;\n",
              "      box-shadow: 0px 1px 2px rgba(60, 64, 67, 0.3), 0px 1px 3px 1px rgba(60, 64, 67, 0.15);\n",
              "      fill: #174EA6;\n",
              "    }\n",
              "\n",
              "    .colab-df-buttons div {\n",
              "      margin-bottom: 4px;\n",
              "    }\n",
              "\n",
              "    [theme=dark] .colab-df-convert {\n",
              "      background-color: #3B4455;\n",
              "      fill: #D2E3FC;\n",
              "    }\n",
              "\n",
              "    [theme=dark] .colab-df-convert:hover {\n",
              "      background-color: #434B5C;\n",
              "      box-shadow: 0px 1px 3px 1px rgba(0, 0, 0, 0.15);\n",
              "      filter: drop-shadow(0px 1px 2px rgba(0, 0, 0, 0.3));\n",
              "      fill: #FFFFFF;\n",
              "    }\n",
              "  </style>\n",
              "\n",
              "    <script>\n",
              "      const buttonEl =\n",
              "        document.querySelector('#df-fe4c5bd6-8290-4ddc-a807-40177f668672 button.colab-df-convert');\n",
              "      buttonEl.style.display =\n",
              "        google.colab.kernel.accessAllowed ? 'block' : 'none';\n",
              "\n",
              "      async function convertToInteractive(key) {\n",
              "        const element = document.querySelector('#df-fe4c5bd6-8290-4ddc-a807-40177f668672');\n",
              "        const dataTable =\n",
              "          await google.colab.kernel.invokeFunction('convertToInteractive',\n",
              "                                                    [key], {});\n",
              "        if (!dataTable) return;\n",
              "\n",
              "        const docLinkHtml = 'Like what you see? Visit the ' +\n",
              "          '<a target=\"_blank\" href=https://colab.research.google.com/notebooks/data_table.ipynb>data table notebook</a>'\n",
              "          + ' to learn more about interactive tables.';\n",
              "        element.innerHTML = '';\n",
              "        dataTable['output_type'] = 'display_data';\n",
              "        await google.colab.output.renderOutput(dataTable, element);\n",
              "        const docLink = document.createElement('div');\n",
              "        docLink.innerHTML = docLinkHtml;\n",
              "        element.appendChild(docLink);\n",
              "      }\n",
              "    </script>\n",
              "  </div>\n",
              "\n",
              "\n",
              "<div id=\"df-1a96711c-86dc-4905-947b-f434d301d3cf\">\n",
              "  <button class=\"colab-df-quickchart\" onclick=\"quickchart('df-1a96711c-86dc-4905-947b-f434d301d3cf')\"\n",
              "            title=\"Suggest charts\"\n",
              "            style=\"display:none;\">\n",
              "\n",
              "<svg xmlns=\"http://www.w3.org/2000/svg\" height=\"24px\"viewBox=\"0 0 24 24\"\n",
              "     width=\"24px\">\n",
              "    <g>\n",
              "        <path d=\"M19 3H5c-1.1 0-2 .9-2 2v14c0 1.1.9 2 2 2h14c1.1 0 2-.9 2-2V5c0-1.1-.9-2-2-2zM9 17H7v-7h2v7zm4 0h-2V7h2v10zm4 0h-2v-4h2v4z\"/>\n",
              "    </g>\n",
              "</svg>\n",
              "  </button>\n",
              "\n",
              "<style>\n",
              "  .colab-df-quickchart {\n",
              "      --bg-color: #E8F0FE;\n",
              "      --fill-color: #1967D2;\n",
              "      --hover-bg-color: #E2EBFA;\n",
              "      --hover-fill-color: #174EA6;\n",
              "      --disabled-fill-color: #AAA;\n",
              "      --disabled-bg-color: #DDD;\n",
              "  }\n",
              "\n",
              "  [theme=dark] .colab-df-quickchart {\n",
              "      --bg-color: #3B4455;\n",
              "      --fill-color: #D2E3FC;\n",
              "      --hover-bg-color: #434B5C;\n",
              "      --hover-fill-color: #FFFFFF;\n",
              "      --disabled-bg-color: #3B4455;\n",
              "      --disabled-fill-color: #666;\n",
              "  }\n",
              "\n",
              "  .colab-df-quickchart {\n",
              "    background-color: var(--bg-color);\n",
              "    border: none;\n",
              "    border-radius: 50%;\n",
              "    cursor: pointer;\n",
              "    display: none;\n",
              "    fill: var(--fill-color);\n",
              "    height: 32px;\n",
              "    padding: 0;\n",
              "    width: 32px;\n",
              "  }\n",
              "\n",
              "  .colab-df-quickchart:hover {\n",
              "    background-color: var(--hover-bg-color);\n",
              "    box-shadow: 0 1px 2px rgba(60, 64, 67, 0.3), 0 1px 3px 1px rgba(60, 64, 67, 0.15);\n",
              "    fill: var(--button-hover-fill-color);\n",
              "  }\n",
              "\n",
              "  .colab-df-quickchart-complete:disabled,\n",
              "  .colab-df-quickchart-complete:disabled:hover {\n",
              "    background-color: var(--disabled-bg-color);\n",
              "    fill: var(--disabled-fill-color);\n",
              "    box-shadow: none;\n",
              "  }\n",
              "\n",
              "  .colab-df-spinner {\n",
              "    border: 2px solid var(--fill-color);\n",
              "    border-color: transparent;\n",
              "    border-bottom-color: var(--fill-color);\n",
              "    animation:\n",
              "      spin 1s steps(1) infinite;\n",
              "  }\n",
              "\n",
              "  @keyframes spin {\n",
              "    0% {\n",
              "      border-color: transparent;\n",
              "      border-bottom-color: var(--fill-color);\n",
              "      border-left-color: var(--fill-color);\n",
              "    }\n",
              "    20% {\n",
              "      border-color: transparent;\n",
              "      border-left-color: var(--fill-color);\n",
              "      border-top-color: var(--fill-color);\n",
              "    }\n",
              "    30% {\n",
              "      border-color: transparent;\n",
              "      border-left-color: var(--fill-color);\n",
              "      border-top-color: var(--fill-color);\n",
              "      border-right-color: var(--fill-color);\n",
              "    }\n",
              "    40% {\n",
              "      border-color: transparent;\n",
              "      border-right-color: var(--fill-color);\n",
              "      border-top-color: var(--fill-color);\n",
              "    }\n",
              "    60% {\n",
              "      border-color: transparent;\n",
              "      border-right-color: var(--fill-color);\n",
              "    }\n",
              "    80% {\n",
              "      border-color: transparent;\n",
              "      border-right-color: var(--fill-color);\n",
              "      border-bottom-color: var(--fill-color);\n",
              "    }\n",
              "    90% {\n",
              "      border-color: transparent;\n",
              "      border-bottom-color: var(--fill-color);\n",
              "    }\n",
              "  }\n",
              "</style>\n",
              "\n",
              "  <script>\n",
              "    async function quickchart(key) {\n",
              "      const quickchartButtonEl =\n",
              "        document.querySelector('#' + key + ' button');\n",
              "      quickchartButtonEl.disabled = true;  // To prevent multiple clicks.\n",
              "      quickchartButtonEl.classList.add('colab-df-spinner');\n",
              "      try {\n",
              "        const charts = await google.colab.kernel.invokeFunction(\n",
              "            'suggestCharts', [key], {});\n",
              "      } catch (error) {\n",
              "        console.error('Error during call to suggestCharts:', error);\n",
              "      }\n",
              "      quickchartButtonEl.classList.remove('colab-df-spinner');\n",
              "      quickchartButtonEl.classList.add('colab-df-quickchart-complete');\n",
              "    }\n",
              "    (() => {\n",
              "      let quickchartButtonEl =\n",
              "        document.querySelector('#df-1a96711c-86dc-4905-947b-f434d301d3cf button');\n",
              "      quickchartButtonEl.style.display =\n",
              "        google.colab.kernel.accessAllowed ? 'block' : 'none';\n",
              "    })();\n",
              "  </script>\n",
              "</div>\n",
              "\n",
              "    </div>\n",
              "  </div>\n"
            ],
            "application/vnd.google.colaboratory.intrinsic+json": {
              "type": "dataframe",
              "summary": "{\n  \"name\": \"dataset\",\n  \"rows\": 3,\n  \"fields\": [\n    {\n      \"column\": \"iso3c\",\n      \"properties\": {\n        \"dtype\": \"string\",\n        \"num_unique_values\": 3,\n        \"samples\": [\n          \"LUX\",\n          \"GRL\",\n          \"SVN\"\n        ],\n        \"semantic_type\": \"\",\n        \"description\": \"\"\n      }\n    },\n    {\n      \"column\": \"country_name\",\n      \"properties\": {\n        \"dtype\": \"string\",\n        \"num_unique_values\": 3,\n        \"samples\": [\n          \"Luxembourg\",\n          \"Greenland\",\n          \"Slovenia\"\n        ],\n        \"semantic_type\": \"\",\n        \"description\": \"\"\n      }\n    },\n    {\n      \"column\": \"year\",\n      \"properties\": {\n        \"dtype\": \"number\",\n        \"std\": 1,\n        \"min\": 2015,\n        \"max\": 2018,\n        \"num_unique_values\": 3,\n        \"samples\": [\n          2015,\n          2017,\n          2018\n        ],\n        \"semantic_type\": \"\",\n        \"description\": \"\"\n      }\n    },\n    {\n      \"column\": \"time\",\n      \"properties\": {\n        \"dtype\": \"number\",\n        \"std\": 20,\n        \"min\": 6,\n        \"max\": 41,\n        \"num_unique_values\": 2,\n        \"samples\": [\n          6,\n          41\n        ],\n        \"semantic_type\": \"\",\n        \"description\": \"\"\n      }\n    },\n    {\n      \"column\": \"time_unit\",\n      \"properties\": {\n        \"dtype\": \"string\",\n        \"num_unique_values\": 2,\n        \"samples\": [\n          \"monthly\",\n          \"weekly\"\n        ],\n        \"semantic_type\": \"\",\n        \"description\": \"\"\n      }\n    },\n    {\n      \"column\": \"deaths\",\n      \"properties\": {\n        \"dtype\": \"number\",\n        \"std\": 211.19738003425454,\n        \"min\": 40.0,\n        \"max\": 419.0,\n        \"num_unique_values\": 3,\n        \"samples\": [\n          68.0,\n          40.0\n        ],\n        \"semantic_type\": \"\",\n        \"description\": \"\"\n      }\n    }\n  ]\n}"
            }
          },
          "metadata": {},
          "execution_count": 126
        }
      ]
    },
    {
      "cell_type": "code",
      "source": [
        "# Display the Shape of the Dataset\n",
        "print(\"This is the Shape of Dataset {}\".format(dataset.shape))"
      ],
      "metadata": {
        "colab": {
          "base_uri": "https://localhost:8080/"
        },
        "id": "WuHDVwo-s_1U",
        "outputId": "90017ab6-9e49-4011-9d2d-256b042209c4"
      },
      "execution_count": null,
      "outputs": [
        {
          "output_type": "stream",
          "name": "stdout",
          "text": [
            "This is the Shape of Dataset (31465, 6)\n"
          ]
        }
      ]
    },
    {
      "cell_type": "code",
      "source": [
        "# Display the Unique Country Name\n",
        "un_country = dataset[\"country_name\"].unique()\n",
        "print(\"These are the Unique Country Names :\\n{}\".format(un_country))\n",
        "\n",
        "# Also Display the Count of Each Country Name\n",
        "cnt_country = dataset[\"country_name\"].value_counts()\n",
        "print(\"These are Count of Each Country Names :\\n{}\".format(cnt_country))"
      ],
      "metadata": {
        "colab": {
          "base_uri": "https://localhost:8080/"
        },
        "id": "9xlgrP8AtWL4",
        "outputId": "e0d01ac4-b7dc-41c5-a6fc-87aaefdf42fb"
      },
      "execution_count": null,
      "outputs": [
        {
          "output_type": "stream",
          "name": "stdout",
          "text": [
            "These are the Unique Country Names :\n",
            "['Albania' 'Algeria' 'Andorra' 'Antigua and Barbuda' 'Argentina' 'Armenia'\n",
            " 'Aruba' 'Australia' 'Austria' 'Azerbaijan' 'Bahamas' 'Barbados' 'Belarus'\n",
            " 'Belgium' 'Belize' 'Bermuda' 'Bhutan' 'Bolivia' 'Bosnia' 'Brazil'\n",
            " 'Brunei' 'Bulgaria' 'Cabo Verde' 'Canada' 'Chile' 'Colombia' 'Costa Rica'\n",
            " 'Croatia' 'Cuba' 'Cyprus' 'Czechia' 'Denmark' 'Dominican Republic'\n",
            " 'Ecuador' 'Egypt' 'El Salvador' 'Estonia' 'Faroe Islands' 'Fiji'\n",
            " 'Finland' 'France' 'French Guiana' 'French Polynesia' 'Georgia' 'Germany'\n",
            " 'Gibraltar' 'Greece' 'Greenland' 'Guadeloupe' 'Guatemala' 'Hong Kong'\n",
            " 'Hungary' 'Iceland' 'Iran' 'Ireland' 'Israel' 'Italy' 'Jamaica' 'Japan'\n",
            " 'Jordan' 'Kazakhstan' 'Kosovo' 'Kuwait' 'Kyrgyzstan' 'Latvia' 'Lebanon'\n",
            " 'Liechtenstein' 'Lithuania' 'Luxembourg' 'Macao' 'Malaysia' 'Maldives'\n",
            " 'Malta' 'Martinique' 'Mauritius' 'Mayotte' 'Mexico' 'Moldova' 'Monaco'\n",
            " 'Mongolia' 'Montenegro' 'Namibia' 'Netherlands' 'New Caledonia'\n",
            " 'New Zealand' 'Nicaragua' 'North Macedonia' 'Norway' 'Oman' 'Palestine'\n",
            " 'Panama' 'Paraguay' 'Peru' 'Philippines' 'Poland' 'Portugal'\n",
            " 'Puerto Rico' 'Qatar' 'Romania' 'Russia' 'Réunion'\n",
            " 'Saint Kitts and Nevis' 'Saint Vincent and the Grenadines' 'San Marino'\n",
            " 'Serbia' 'Seychelles' 'Singapore' 'Slovakia' 'Slovenia' 'South Africa'\n",
            " 'South Korea' 'Spain' 'Suriname' 'Sweden' 'Switzerland' 'Taiwan'\n",
            " 'Tajikistan' 'Thailand' 'Transnistria' 'Tunisia' 'Turkey' 'Ukraine'\n",
            " 'United Arab Emirates' 'United Kingdom' 'United States' 'Uruguay'\n",
            " 'Uzbekistan']\n",
            "These are Count of Each Country Names :\n",
            "country_name\n",
            "Estonia                 484\n",
            "Denmark                 483\n",
            "Ecuador                 483\n",
            "Poland                  483\n",
            "Norway                  483\n",
            "                       ... \n",
            "United Arab Emirates     48\n",
            "Palestine                48\n",
            "Algeria                  36\n",
            "Fiji                     36\n",
            "Bhutan                   36\n",
            "Name: count, Length: 127, dtype: int64\n"
          ]
        }
      ]
    },
    {
      "cell_type": "code",
      "source": [
        "# Get the 6 countries Data with Turkey Country\n",
        "new_dataset = dataset[dataset[\"country_name\"].isin([\"Estonia\" , \"Denmark\" , \"Poland\" , \"Ecuador\" , \"Norway\" , \"Turkey\"])]\n",
        "\n",
        "# Display the Shape of the New Dataset\n",
        "print(\"This is the Shape of the New Dataset is : {}\".format(new_dataset.shape))"
      ],
      "metadata": {
        "colab": {
          "base_uri": "https://localhost:8080/"
        },
        "id": "HdyTs4MYuzBk",
        "outputId": "16402b3c-8b6d-4802-8c32-139f08a088a3"
      },
      "execution_count": null,
      "outputs": [
        {
          "output_type": "stream",
          "name": "stdout",
          "text": [
            "This is the Shape of the New Dataset is : (2512, 6)\n"
          ]
        }
      ]
    },
    {
      "cell_type": "code",
      "source": [
        "# Checking the Missing Values in the Dataset\n",
        "missing_values = new_dataset.isnull().sum()\n",
        "\n",
        "# Display the Missing Values of Each Column\n",
        "print(\"Missing Values of Each Columns is :\\n{}\".format(missing_values))"
      ],
      "metadata": {
        "colab": {
          "base_uri": "https://localhost:8080/"
        },
        "id": "qxJSriyztp8f",
        "outputId": "616c6930-80ef-4213-8164-d9c9ea192f31"
      },
      "execution_count": null,
      "outputs": [
        {
          "output_type": "stream",
          "name": "stdout",
          "text": [
            "Missing Values of Each Columns is :\n",
            "iso3c           0\n",
            "country_name    0\n",
            "year            0\n",
            "time            0\n",
            "time_unit       0\n",
            "deaths          0\n",
            "dtype: int64\n"
          ]
        }
      ]
    },
    {
      "cell_type": "code",
      "source": [
        "# Check the Total Duplicated Data\n",
        "duplicatedData = new_dataset.duplicated().sum()\n",
        "\n",
        "# Display the Total Duplicated Data\n",
        "print(f\"Here is the total Duplicated Data in the Dataset : {duplicatedData}\")"
      ],
      "metadata": {
        "colab": {
          "base_uri": "https://localhost:8080/"
        },
        "id": "_Bi4ZofOkL0a",
        "outputId": "1f9b0b99-ab46-4517-f6e1-d6c664f0f79d"
      },
      "execution_count": null,
      "outputs": [
        {
          "output_type": "stream",
          "name": "stdout",
          "text": [
            "Here is the total Duplicated Data in the Dataset : 0\n"
          ]
        }
      ]
    },
    {
      "cell_type": "code",
      "source": [
        "# Display the Information about the Dataset\n",
        "info_dataset = new_dataset.info()\n",
        "print(\"This is the Information about the Dataset :\\n{}\".format(info_dataset))"
      ],
      "metadata": {
        "colab": {
          "base_uri": "https://localhost:8080/"
        },
        "id": "HHuXgmERudrz",
        "outputId": "bb876a3f-3e21-48e4-b90c-00a84db5b0d1"
      },
      "execution_count": null,
      "outputs": [
        {
          "output_type": "stream",
          "name": "stdout",
          "text": [
            "<class 'pandas.core.frame.DataFrame'>\n",
            "Index: 2512 entries, 6529 to 30192\n",
            "Data columns (total 6 columns):\n",
            " #   Column        Non-Null Count  Dtype  \n",
            "---  ------        --------------  -----  \n",
            " 0   iso3c         2512 non-null   object \n",
            " 1   country_name  2512 non-null   object \n",
            " 2   year          2512 non-null   int64  \n",
            " 3   time          2512 non-null   int64  \n",
            " 4   time_unit     2512 non-null   object \n",
            " 5   deaths        2512 non-null   float64\n",
            "dtypes: float64(1), int64(2), object(3)\n",
            "memory usage: 137.4+ KB\n",
            "This is the Information about the Dataset :\n",
            "None\n"
          ]
        }
      ]
    },
    {
      "cell_type": "code",
      "source": [
        "# Find out the Statistical Information about the Numerical Columns\n",
        "stat_info = dataset.describe()\n",
        "print(\"This is the Statistical Information about the Dataset :\\n{}\".format(stat_info))"
      ],
      "metadata": {
        "colab": {
          "base_uri": "https://localhost:8080/"
        },
        "id": "XAXb1w4hvk54",
        "outputId": "6bf6affc-f602-43d5-9f37-cd8bd8e0f059"
      },
      "execution_count": null,
      "outputs": [
        {
          "output_type": "stream",
          "name": "stdout",
          "text": [
            "This is the Statistical Information about the Dataset :\n",
            "               year          time         deaths\n",
            "count  31465.000000  31465.000000   31465.000000\n",
            "mean    2018.209185     21.757794    6193.944853\n",
            "std       39.505524     15.778371   16538.881182\n",
            "min        0.000000      1.000000       4.000000\n",
            "25%     2017.000000      8.000000     427.000000\n",
            "50%     2019.000000     18.000000    1664.000000\n",
            "75%     2021.000000     35.000000    4960.000000\n",
            "max     2024.000000     53.000000  266343.000000\n"
          ]
        }
      ]
    },
    {
      "cell_type": "markdown",
      "source": [
        "**Visualization Dataset**"
      ],
      "metadata": {
        "id": "yDbCS-7ha2bi"
      }
    },
    {
      "cell_type": "code",
      "source": [
        "# Import the Important Modules\n",
        "import seaborn as sns\n",
        "import matplotlib.pyplot as plt"
      ],
      "metadata": {
        "id": "0h-pmCWFbUO5"
      },
      "execution_count": null,
      "outputs": []
    },
    {
      "cell_type": "code",
      "source": [
        "# Display the Death Acoording to the Country\n",
        "sns.barplot(x = 'country_name' , y = 'deaths' , data = new_dataset )\n",
        "plt.title(\"Death by Country\")\n",
        "plt.xlabel(\"Country\")\n",
        "plt.ylabel(\"Death\")\n",
        "plt.show()"
      ],
      "metadata": {
        "colab": {
          "base_uri": "https://localhost:8080/",
          "height": 472
        },
        "id": "0_cklj77a1sd",
        "outputId": "e34480e5-63ad-49c4-f794-5232a6d06d13"
      },
      "execution_count": null,
      "outputs": [
        {
          "output_type": "display_data",
          "data": {
            "text/plain": [
              "<Figure size 640x480 with 1 Axes>"
            ],
            "image/png": "[encoded data removed]"
          },
          "metadata": {}
        }
      ]
    },
    {
      "cell_type": "code",
      "source": [
        "# Display the Death Acoording to the Country with Time Unit\n",
        "sns.barplot(x = 'country_name' , y = 'deaths' , data = new_dataset ,  hue='time_unit')\n",
        "plt.title('Death with Country & Time Unit')\n",
        "plt.xlabel(\"Country Name\")\n",
        "plt.ylabel(\"Death\")\n",
        "plt.legend(title= \"Time Unit\")\n",
        "plt.show()"
      ],
      "metadata": {
        "colab": {
          "base_uri": "https://localhost:8080/",
          "height": 472
        },
        "id": "9_cIGP-5b2Si",
        "outputId": "86e3b79c-d62d-4f50-b3bb-a38c869c4e60"
      },
      "execution_count": null,
      "outputs": [
        {
          "output_type": "display_data",
          "data": {
            "text/plain": [
              "<Figure size 640x480 with 1 Axes>"
            ],
            "image/png": "[encoded data removed]"
          },
          "metadata": {}
        }
      ]
    },
    {
      "cell_type": "code",
      "source": [
        "# Check the Death according to the Year\n",
        "sns.barplot(x = 'year' , y = 'deaths' , data = new_dataset )\n",
        "plt.title(\"Death by Year\")\n",
        "plt.xlabel(\"Year\")\n",
        "plt.ylabel(\"Death\")\n",
        "plt.show()"
      ],
      "metadata": {
        "colab": {
          "base_uri": "https://localhost:8080/",
          "height": 472
        },
        "id": "tbfoUKO_a10q",
        "outputId": "870e401c-9221-450c-d5e4-e88415a9c2fa"
      },
      "execution_count": null,
      "outputs": [
        {
          "output_type": "display_data",
          "data": {
            "text/plain": [
              "<Figure size 640x480 with 1 Axes>"
            ],
            "image/png": "[encoded data removed]"
          },
          "metadata": {}
        }
      ]
    },
    {
      "cell_type": "code",
      "source": [
        "# Display the Death according to the Year and Time Unit\n",
        "sns.barplot(x = 'year' , y = 'deaths' , data = new_dataset  , hue = \"time_unit\")\n",
        "plt.title(\"Death by Year & Time Unit\")\n",
        "plt.xlabel(\"Year\")\n",
        "plt.ylabel(\"Death\")\n",
        "plt.legend(title = \"Time Unit\")\n",
        "plt.show()\n"
      ],
      "metadata": {
        "colab": {
          "base_uri": "https://localhost:8080/",
          "height": 472
        },
        "id": "iwnHGfBVbvAG",
        "outputId": "29c45065-ef84-4a9e-827e-4ffbf84abab8"
      },
      "execution_count": null,
      "outputs": [
        {
          "output_type": "display_data",
          "data": {
            "text/plain": [
              "<Figure size 640x480 with 1 Axes>"
            ],
            "image/png": "[encoded data removed]"
          },
          "metadata": {}
        }
      ]
    },
    {
      "cell_type": "code",
      "source": [
        "# Display the Death Acording to the Time Unit\n",
        "sns.barplot(x = 'time_unit' , y = 'deaths' , data = new_dataset )\n",
        "plt.title(\"Death by Time Unit\")\n",
        "plt.xlabel(\"Time Unit\")\n",
        "plt.ylabel(\"Death\")\n",
        "plt.show()"
      ],
      "metadata": {
        "colab": {
          "base_uri": "https://localhost:8080/",
          "height": 472
        },
        "id": "JzpZfaXKcuPo",
        "outputId": "0fa4941e-9371-4e8f-8f71-9ab4cb67dbf6"
      },
      "execution_count": null,
      "outputs": [
        {
          "output_type": "display_data",
          "data": {
            "text/plain": [
              "<Figure size 640x480 with 1 Axes>"
            ],
            "image/png": "[encoded data removed]"
          },
          "metadata": {}
        }
      ]
    },
    {
      "cell_type": "markdown",
      "source": [
        "**Dataset Pre-Processing Part**"
      ],
      "metadata": {
        "id": "zbe-dU73wFuG"
      }
    },
    {
      "cell_type": "code",
      "source": [
        "# Convert the Categorical Data to Numerical\n",
        "from sklearn.preprocessing import LabelEncoder\n",
        "\n",
        "# Create the Object of Label Encoder\n",
        "label_encoder = LabelEncoder()\n",
        "\n",
        "# Apply the Label Ecoder in the Categorial Data\n",
        "for name in [\"iso3c\" , \"country_name\" , \"time_unit\"]:\n",
        "  new_dataset.loc[:,name] = label_encoder.fit_transform(new_dataset[name])"
      ],
      "metadata": {
        "id": "NZEEg3A_wum4"
      },
      "execution_count": null,
      "outputs": []
    },
    {
      "cell_type": "code",
      "source": [
        "# Minimization the Data\n",
        "for column in new_dataset.columns[:-1]:\n",
        "    min_value = new_dataset[column].min()\n",
        "    max_value = new_dataset[column].max()\n",
        "\n",
        "    # Apply Min-Max normalization formula\n",
        "    new_dataset.loc[:, column] = (new_dataset[column] - min_value) / (max_value - min_value)"
      ],
      "metadata": {
        "id": "-lBPqfTSxTBF",
        "colab": {
          "base_uri": "https://localhost:8080/"
        },
        "outputId": "11130744-0a1c-4820-dabd-3dd502654e05"
      },
      "execution_count": null,
      "outputs": [
        {
          "output_type": "stream",
          "name": "stderr",
          "text": [
            "<ipython-input-141-76687cabaffd>:7: FutureWarning: Setting an item of incompatible dtype is deprecated and will raise in a future error of pandas. Value '[0.         0.         0.         ... 0.77777778 0.77777778 0.77777778]' has dtype incompatible with int64, please explicitly cast to a compatible dtype first.\n",
            "  new_dataset.loc[:, column] = (new_dataset[column] - min_value) / (max_value - min_value)\n",
            "<ipython-input-141-76687cabaffd>:7: FutureWarning: Setting an item of incompatible dtype is deprecated and will raise in a future error of pandas. Value '[0.         0.01923077 0.03846154 ... 0.17307692 0.19230769 0.21153846]' has dtype incompatible with int64, please explicitly cast to a compatible dtype first.\n",
            "  new_dataset.loc[:, column] = (new_dataset[column] - min_value) / (max_value - min_value)\n"
          ]
        }
      ]
    },
    {
      "cell_type": "code",
      "source": [
        "new_dataset.head(2)"
      ],
      "metadata": {
        "colab": {
          "base_uri": "https://localhost:8080/",
          "height": 112
        },
        "id": "5m8x071QnsQk",
        "outputId": "3cd83f46-f93a-4cee-8e1c-d2cf5ad009e5"
      },
      "execution_count": null,
      "outputs": [
        {
          "output_type": "execute_result",
          "data": {
            "text/plain": [
              "     iso3c country_name  year      time time_unit  deaths\n",
              "6529   0.0          0.0   0.0  0.000000       1.0  1127.0\n",
              "6530   0.0          0.0   0.0  0.019231       1.0  1108.0"
            ],
            "text/html": [
              "\n",
              "  <div id=\"df-723a6473-15f7-4a6e-9396-e5b08df11d66\" class=\"colab-df-container\">\n",
              "    <div>\n",
              "<style scoped>\n",
              "    .dataframe tbody tr th:only-of-type {\n",
              "        vertical-align: middle;\n",
              "    }\n",
              "\n",
              "    .dataframe tbody tr th {\n",
              "        vertical-align: top;\n",
              "    }\n",
              "\n",
              "    .dataframe thead th {\n",
              "        text-align: right;\n",
              "    }\n",
              "</style>\n",
              "<table border=\"1\" class=\"dataframe\">\n",
              "  <thead>\n",
              "    <tr style=\"text-align: right;\">\n",
              "      <th></th>\n",
              "      <th>iso3c</th>\n",
              "      <th>country_name</th>\n",
              "      <th>year</th>\n",
              "      <th>time</th>\n",
              "      <th>time_unit</th>\n",
              "      <th>deaths</th>\n",
              "    </tr>\n",
              "  </thead>\n",
              "  <tbody>\n",
              "    <tr>\n",
              "      <th>6529</th>\n",
              "      <td>0.0</td>\n",
              "      <td>0.0</td>\n",
              "      <td>0.0</td>\n",
              "      <td>0.000000</td>\n",
              "      <td>1.0</td>\n",
              "      <td>1127.0</td>\n",
              "    </tr>\n",
              "    <tr>\n",
              "      <th>6530</th>\n",
              "      <td>0.0</td>\n",
              "      <td>0.0</td>\n",
              "      <td>0.0</td>\n",
              "      <td>0.019231</td>\n",
              "      <td>1.0</td>\n",
              "      <td>1108.0</td>\n",
              "    </tr>\n",
              "  </tbody>\n",
              "</table>\n",
              "</div>\n",
              "    <div class=\"colab-df-buttons\">\n",
              "\n",
              "  <div class=\"colab-df-container\">\n",
              "    <button class=\"colab-df-convert\" onclick=\"convertToInteractive('df-723a6473-15f7-4a6e-9396-e5b08df11d66')\"\n",
              "            title=\"Convert this dataframe to an interactive table.\"\n",
              "            style=\"display:none;\">\n",
              "\n",
              "  <svg xmlns=\"http://www.w3.org/2000/svg\" height=\"24px\" viewBox=\"0 -960 960 960\">\n",
              "    <path d=\"M120-120v-720h720v720H120Zm60-500h600v-160H180v160Zm220 220h160v-160H400v160Zm0 220h160v-160H400v160ZM180-400h160v-160H180v160Zm440 0h160v-160H620v160ZM180-180h160v-160H180v160Zm440 0h160v-160H620v160Z\"/>\n",
              "  </svg>\n",
              "    </button>\n",
              "\n",
              "  <style>\n",
              "    .colab-df-container {\n",
              "      display:flex;\n",
              "      gap: 12px;\n",
              "    }\n",
              "\n",
              "    .colab-df-convert {\n",
              "      background-color: #E8F0FE;\n",
              "      border: none;\n",
              "      border-radius: 50%;\n",
              "      cursor: pointer;\n",
              "      display: none;\n",
              "      fill: #1967D2;\n",
              "      height: 32px;\n",
              "      padding: 0 0 0 0;\n",
              "      width: 32px;\n",
              "    }\n",
              "\n",
              "    .colab-df-convert:hover {\n",
              "      background-color: #E2EBFA;\n",
              "      box-shadow: 0px 1px 2px rgba(60, 64, 67, 0.3), 0px 1px 3px 1px rgba(60, 64, 67, 0.15);\n",
              "      fill: #174EA6;\n",
              "    }\n",
              "\n",
              "    .colab-df-buttons div {\n",
              "      margin-bottom: 4px;\n",
              "    }\n",
              "\n",
              "    [theme=dark] .colab-df-convert {\n",
              "      background-color: #3B4455;\n",
              "      fill: #D2E3FC;\n",
              "    }\n",
              "\n",
              "    [theme=dark] .colab-df-convert:hover {\n",
              "      background-color: #434B5C;\n",
              "      box-shadow: 0px 1px 3px 1px rgba(0, 0, 0, 0.15);\n",
              "      filter: drop-shadow(0px 1px 2px rgba(0, 0, 0, 0.3));\n",
              "      fill: #FFFFFF;\n",
              "    }\n",
              "  </style>\n",
              "\n",
              "    <script>\n",
              "      const buttonEl =\n",
              "        document.querySelector('#df-723a6473-15f7-4a6e-9396-e5b08df11d66 button.colab-df-convert');\n",
              "      buttonEl.style.display =\n",
              "        google.colab.kernel.accessAllowed ? 'block' : 'none';\n",
              "\n",
              "      async function convertToInteractive(key) {\n",
              "        const element = document.querySelector('#df-723a6473-15f7-4a6e-9396-e5b08df11d66');\n",
              "        const dataTable =\n",
              "          await google.colab.kernel.invokeFunction('convertToInteractive',\n",
              "                                                    [key], {});\n",
              "        if (!dataTable) return;\n",
              "\n",
              "        const docLinkHtml = 'Like what you see? Visit the ' +\n",
              "          '<a target=\"_blank\" href=https://colab.research.google.com/notebooks/data_table.ipynb>data table notebook</a>'\n",
              "          + ' to learn more about interactive tables.';\n",
              "        element.innerHTML = '';\n",
              "        dataTable['output_type'] = 'display_data';\n",
              "        await google.colab.output.renderOutput(dataTable, element);\n",
              "        const docLink = document.createElement('div');\n",
              "        docLink.innerHTML = docLinkHtml;\n",
              "        element.appendChild(docLink);\n",
              "      }\n",
              "    </script>\n",
              "  </div>\n",
              "\n",
              "\n",
              "<div id=\"df-187cc374-a0f0-4091-bbc2-9605d5ef7a9c\">\n",
              "  <button class=\"colab-df-quickchart\" onclick=\"quickchart('df-187cc374-a0f0-4091-bbc2-9605d5ef7a9c')\"\n",
              "            title=\"Suggest charts\"\n",
              "            style=\"display:none;\">\n",
              "\n",
              "<svg xmlns=\"http://www.w3.org/2000/svg\" height=\"24px\"viewBox=\"0 0 24 24\"\n",
              "     width=\"24px\">\n",
              "    <g>\n",
              "        <path d=\"M19 3H5c-1.1 0-2 .9-2 2v14c0 1.1.9 2 2 2h14c1.1 0 2-.9 2-2V5c0-1.1-.9-2-2-2zM9 17H7v-7h2v7zm4 0h-2V7h2v10zm4 0h-2v-4h2v4z\"/>\n",
              "    </g>\n",
              "</svg>\n",
              "  </button>\n",
              "\n",
              "<style>\n",
              "  .colab-df-quickchart {\n",
              "      --bg-color: #E8F0FE;\n",
              "      --fill-color: #1967D2;\n",
              "      --hover-bg-color: #E2EBFA;\n",
              "      --hover-fill-color: #174EA6;\n",
              "      --disabled-fill-color: #AAA;\n",
              "      --disabled-bg-color: #DDD;\n",
              "  }\n",
              "\n",
              "  [theme=dark] .colab-df-quickchart {\n",
              "      --bg-color: #3B4455;\n",
              "      --fill-color: #D2E3FC;\n",
              "      --hover-bg-color: #434B5C;\n",
              "      --hover-fill-color: #FFFFFF;\n",
              "      --disabled-bg-color: #3B4455;\n",
              "      --disabled-fill-color: #666;\n",
              "  }\n",
              "\n",
              "  .colab-df-quickchart {\n",
              "    background-color: var(--bg-color);\n",
              "    border: none;\n",
              "    border-radius: 50%;\n",
              "    cursor: pointer;\n",
              "    display: none;\n",
              "    fill: var(--fill-color);\n",
              "    height: 32px;\n",
              "    padding: 0;\n",
              "    width: 32px;\n",
              "  }\n",
              "\n",
              "  .colab-df-quickchart:hover {\n",
              "    background-color: var(--hover-bg-color);\n",
              "    box-shadow: 0 1px 2px rgba(60, 64, 67, 0.3), 0 1px 3px 1px rgba(60, 64, 67, 0.15);\n",
              "    fill: var(--button-hover-fill-color);\n",
              "  }\n",
              "\n",
              "  .colab-df-quickchart-complete:disabled,\n",
              "  .colab-df-quickchart-complete:disabled:hover {\n",
              "    background-color: var(--disabled-bg-color);\n",
              "    fill: var(--disabled-fill-color);\n",
              "    box-shadow: none;\n",
              "  }\n",
              "\n",
              "  .colab-df-spinner {\n",
              "    border: 2px solid var(--fill-color);\n",
              "    border-color: transparent;\n",
              "    border-bottom-color: var(--fill-color);\n",
              "    animation:\n",
              "      spin 1s steps(1) infinite;\n",
              "  }\n",
              "\n",
              "  @keyframes spin {\n",
              "    0% {\n",
              "      border-color: transparent;\n",
              "      border-bottom-color: var(--fill-color);\n",
              "      border-left-color: var(--fill-color);\n",
              "    }\n",
              "    20% {\n",
              "      border-color: transparent;\n",
              "      border-left-color: var(--fill-color);\n",
              "      border-top-color: var(--fill-color);\n",
              "    }\n",
              "    30% {\n",
              "      border-color: transparent;\n",
              "      border-left-color: var(--fill-color);\n",
              "      border-top-color: var(--fill-color);\n",
              "      border-right-color: var(--fill-color);\n",
              "    }\n",
              "    40% {\n",
              "      border-color: transparent;\n",
              "      border-right-color: var(--fill-color);\n",
              "      border-top-color: var(--fill-color);\n",
              "    }\n",
              "    60% {\n",
              "      border-color: transparent;\n",
              "      border-right-color: var(--fill-color);\n",
              "    }\n",
              "    80% {\n",
              "      border-color: transparent;\n",
              "      border-right-color: var(--fill-color);\n",
              "      border-bottom-color: var(--fill-color);\n",
              "    }\n",
              "    90% {\n",
              "      border-color: transparent;\n",
              "      border-bottom-color: var(--fill-color);\n",
              "    }\n",
              "  }\n",
              "</style>\n",
              "\n",
              "  <script>\n",
              "    async function quickchart(key) {\n",
              "      const quickchartButtonEl =\n",
              "        document.querySelector('#' + key + ' button');\n",
              "      quickchartButtonEl.disabled = true;  // To prevent multiple clicks.\n",
              "      quickchartButtonEl.classList.add('colab-df-spinner');\n",
              "      try {\n",
              "        const charts = await google.colab.kernel.invokeFunction(\n",
              "            'suggestCharts', [key], {});\n",
              "      } catch (error) {\n",
              "        console.error('Error during call to suggestCharts:', error);\n",
              "      }\n",
              "      quickchartButtonEl.classList.remove('colab-df-spinner');\n",
              "      quickchartButtonEl.classList.add('colab-df-quickchart-complete');\n",
              "    }\n",
              "    (() => {\n",
              "      let quickchartButtonEl =\n",
              "        document.querySelector('#df-187cc374-a0f0-4091-bbc2-9605d5ef7a9c button');\n",
              "      quickchartButtonEl.style.display =\n",
              "        google.colab.kernel.accessAllowed ? 'block' : 'none';\n",
              "    })();\n",
              "  </script>\n",
              "</div>\n",
              "\n",
              "    </div>\n",
              "  </div>\n"
            ],
            "application/vnd.google.colaboratory.intrinsic+json": {
              "type": "dataframe",
              "variable_name": "new_dataset",
              "repr_error": "0"
            }
          },
          "metadata": {},
          "execution_count": 142
        }
      ]
    },
    {
      "cell_type": "markdown",
      "source": [
        "**Finding Correlation**"
      ],
      "metadata": {
        "id": "We_RZAR3nNdq"
      }
    },
    {
      "cell_type": "code",
      "source": [
        "# Find out the Correlation of Each Colm using Corr Method\n",
        "corrMatrix = new_dataset.iloc[:, :-1].corr()\n",
        "\n",
        "# Display the Correlation Matrix using HeatMap\n",
        "plt.figure(figsize = (10,10))\n",
        "sns.heatmap(corrMatrix , annot = True , cmap = \"coolwarm\" , fmt = \".2f\")\n",
        "plt.title(\"Correlation Matrix\")\n",
        "plt.show()"
      ],
      "metadata": {
        "colab": {
          "base_uri": "https://localhost:8080/",
          "height": 853
        },
        "id": "xR7muQRtnH-0",
        "outputId": "5b57dc55-734b-41da-d793-5ac2a13a032b"
      },
      "execution_count": null,
      "outputs": [
        {
          "output_type": "display_data",
          "data": {
            "text/plain": [
              "<Figure size 1000x1000 with 2 Axes>"
            ],
            "image/png": "[encoded data removed]"
          },
          "metadata": {}
        }
      ]
    },
    {
      "cell_type": "code",
      "source": [
        "# Exclude the Correlated Colms\n",
        "threshold = 0.7  # Define the Threshold\n",
        "corrFeatures = []\n",
        "\n",
        "# get the Correlated Features\n",
        "for i in range(len(corrMatrix.columns[:-1])):\n",
        "    for j in range(i):\n",
        "        if abs(corrMatrix.iloc[i, j]) >= threshold:\n",
        "            colname = corrMatrix.columns[i]\n",
        "            corrFeatures.append(colname)\n",
        "# Now Drop the These Features\n",
        "dataset2 = new_dataset.drop(corrFeatures , inplace = False , axis = 1)"
      ],
      "metadata": {
        "id": "Yj717CBVnVZj"
      },
      "execution_count": null,
      "outputs": []
    },
    {
      "cell_type": "markdown",
      "source": [
        "**Finding Outliers**"
      ],
      "metadata": {
        "id": "W2ZqhCWMpdnm"
      }
    },
    {
      "cell_type": "code",
      "source": [
        "# Define the Function for Removal the Oulier\n",
        "def removal_outliers(data):\n",
        "    for column in data.columns:\n",
        "        Q1 = data[column].quantile(0.25)\n",
        "        Q3 = data[column].quantile(0.75)\n",
        "        IQR = Q3 - Q1\n",
        "        lower_bound = Q1 - 1.5 * IQR\n",
        "        upper_bound = Q3 + 1.5 * IQR\n",
        "\n",
        "        # Find outliers in the column\n",
        "        dataset_without_outliers = data.loc[(data[column] <= upper_bound) & (data[column] >= lower_bound)]\n",
        "\n",
        "    return dataset_without_outliers"
      ],
      "metadata": {
        "id": "Ji5CHGenppu2"
      },
      "execution_count": null,
      "outputs": []
    },
    {
      "cell_type": "code",
      "source": [
        "# Create a BoxPlot\n",
        "plt.figure(figsize=(20, 15))\n",
        "sns.boxplot(data=new_dataset.iloc[:,:-1], orient='h')\n",
        "plt.title(\"BoxPlot to Identify Outliers\")\n",
        "plt.show()"
      ],
      "metadata": {
        "colab": {
          "base_uri": "https://localhost:8080/",
          "height": 624
        },
        "id": "I0axOS8kpcwm",
        "outputId": "4e92d1ec-6d45-4e9d-e935-f7441aa1789e"
      },
      "execution_count": null,
      "outputs": [
        {
          "output_type": "display_data",
          "data": {
            "text/plain": [
              "<Figure size 2000x1500 with 1 Axes>"
            ],
            "image/png": "[encoded data removed]"
          },
          "metadata": {}
        }
      ]
    },
    {
      "cell_type": "markdown",
      "source": [
        "**Dividint the Dataset into Training and Testing Part**"
      ],
      "metadata": {
        "id": "-KqsXuTuydbh"
      }
    },
    {
      "cell_type": "code",
      "source": [
        "# Divide the Dataset into Dependent and Independent\n",
        "X = new_dataset.iloc[:,:-1].values\n",
        "y = new_dataset.iloc[:,-1].values\n",
        "\n",
        "# Display the Shape of X & y\n",
        "print(\"Shape of the X : {}\".format(X.shape))\n",
        "print(\"Shape of the Y : {}\".format(y.shape))"
      ],
      "metadata": {
        "colab": {
          "base_uri": "https://localhost:8080/"
        },
        "id": "CtYvGY0GpFxW",
        "outputId": "e5480b43-5cff-4b5d-8d6a-d17955d2ec5b"
      },
      "execution_count": null,
      "outputs": [
        {
          "output_type": "stream",
          "name": "stdout",
          "text": [
            "Shape of the X : (2512, 5)\n",
            "Shape of the Y : (2512,)\n"
          ]
        }
      ]
    },
    {
      "cell_type": "code",
      "source": [
        "# Divide the Dataset into the Training and Testing Part\n",
        "from sklearn.model_selection import train_test_split\n",
        "\n",
        "# Now Divide the Dataseta\n",
        "xTrain , xTest , yTrain , yTest = train_test_split(X , y , test_size = 0.2 , random_state = 42)"
      ],
      "metadata": {
        "id": "T7sG8fkzw5rB"
      },
      "execution_count": null,
      "outputs": []
    },
    {
      "cell_type": "code",
      "source": [
        "# Display the Shape of the Training and Testing Data Part\n",
        "print(\"Shape of X Train is : {}\".format(xTrain.shape))\n",
        "print(\"Shape of Y Train is : {}\".format(yTrain.shape))\n",
        "print(\"Shape of X Test  is : {}\".format(xTest.shape))\n",
        "print(\"Shape of y Test  is : {}\".format(yTest.shape))"
      ],
      "metadata": {
        "colab": {
          "base_uri": "https://localhost:8080/"
        },
        "id": "Ky0GxOLpyNyP",
        "outputId": "350a44b2-77c1-431b-f052-3a0ce54d2df5"
      },
      "execution_count": null,
      "outputs": [
        {
          "output_type": "stream",
          "name": "stdout",
          "text": [
            "Shape of X Train is : (2009, 5)\n",
            "Shape of Y Train is : (2009,)\n",
            "Shape of X Test  is : (503, 5)\n",
            "Shape of y Test  is : (503,)\n"
          ]
        }
      ]
    },
    {
      "cell_type": "markdown",
      "source": [
        "**Best Four Machine Learning Models**"
      ],
      "metadata": {
        "id": "RPA1vbMp0yf_"
      }
    },
    {
      "cell_type": "code",
      "source": [
        "# Import the Metrics for model evaluation\n",
        "from sklearn.metrics import mean_squared_error\n",
        "from sklearn.metrics import mean_absolute_error"
      ],
      "metadata": {
        "id": "eW562XUZ1oZL"
      },
      "execution_count": null,
      "outputs": []
    },
    {
      "cell_type": "code",
      "source": [
        "# Define the Function for Model training and Testing\n",
        "def train_model(xtrain , ytrain , xtest , ytest  , model):\n",
        "  # Train the Model in the Training Part\n",
        "  model.fit(xtrain , ytrain)\n",
        "\n",
        "  #   Test the Model in the Testing Part\n",
        "  prediction = model.predict(xtest)\n",
        "\n",
        "  # Calculate the Error Score for the Regression Model\n",
        "  msr = mean_squared_error(prediction , ytest)\n",
        "  mae = mean_absolute_error(prediction , ytest)\n",
        "\n",
        "  # Return the Error\n",
        "  return model , prediction , msr , mae"
      ],
      "metadata": {
        "id": "8pj6WzFnzF7F"
      },
      "execution_count": null,
      "outputs": []
    },
    {
      "cell_type": "markdown",
      "source": [
        "**Linear Regression Model**"
      ],
      "metadata": {
        "id": "huDw6TjP2R5t"
      }
    },
    {
      "cell_type": "code",
      "source": [
        "# Import the LinearRegression\n",
        "from sklearn.linear_model import LinearRegression\n",
        "\n",
        "# Create the Object\n",
        "lr_model = LinearRegression()\n",
        "\n",
        "# Call the Function\n",
        "lr_model , lr_prediction , lr_msr , lr_mae = train_model(xTrain , yTrain , xTest , yTest,  lr_model)"
      ],
      "metadata": {
        "id": "xc9pjY0D2ChR"
      },
      "execution_count": null,
      "outputs": []
    },
    {
      "cell_type": "code",
      "source": [
        "# Display the Error\n",
        "print(\"Mean Sqaured Error : {}\".format(lr_msr))\n",
        "print(\"Mean Absolute Error : {}\".format(lr_mae))"
      ],
      "metadata": {
        "colab": {
          "base_uri": "https://localhost:8080/"
        },
        "id": "t8Tlxyf52agw",
        "outputId": "b6b4801c-bb55-4413-f178-1e61de7d0960"
      },
      "execution_count": null,
      "outputs": [
        {
          "output_type": "stream",
          "name": "stdout",
          "text": [
            "Mean Sqaured Error : 6477833.83145733\n",
            "Mean Absolute Error : 2153.0367514344234\n"
          ]
        }
      ]
    },
    {
      "cell_type": "markdown",
      "source": [
        "**Random Forest Model**"
      ],
      "metadata": {
        "id": "FczE0O5B4fQY"
      }
    },
    {
      "cell_type": "code",
      "source": [
        "# Import the RandomForest\n",
        "from sklearn.ensemble import RandomForestRegressor\n",
        "\n",
        "# Create the Object\n",
        "rf_model = RandomForestRegressor()\n",
        "\n",
        "# Call the Function\n",
        "rf_model , rf_prediction , rf_msr , rf_mae = train_model(xTrain , yTrain , xTest , yTest,  rf_model)"
      ],
      "metadata": {
        "id": "_cA1cWMF4Kqb"
      },
      "execution_count": null,
      "outputs": []
    },
    {
      "cell_type": "code",
      "source": [
        "# Display the Error\n",
        "print(\"Mean Sqaured Error : {}\".format(rf_msr))\n",
        "print(\"Mean Absolute Error : {}\".format(rf_mae))"
      ],
      "metadata": {
        "colab": {
          "base_uri": "https://localhost:8080/"
        },
        "id": "64TxYGp74laK",
        "outputId": "25f89fb8-4edb-4253-b5a2-20acb20adeca"
      },
      "execution_count": null,
      "outputs": [
        {
          "output_type": "stream",
          "name": "stdout",
          "text": [
            "Mean Sqaured Error : 423138.800697018\n",
            "Mean Absolute Error : 185.5116500994036\n"
          ]
        }
      ]
    },
    {
      "cell_type": "markdown",
      "source": [
        "**Decision Tree Model**"
      ],
      "metadata": {
        "id": "DiL1svCY42cu"
      }
    },
    {
      "cell_type": "code",
      "source": [
        "# Import the Decision Tree\n",
        "from sklearn.tree import DecisionTreeRegressor\n",
        "\n",
        "# Create the Object\n",
        "dt_model = DecisionTreeRegressor()\n",
        "\n",
        "# Call the Function\n",
        "dt_model , dt_prediction , dt_msr , dt_mae = train_model(xTrain , yTrain , xTest , yTest,  dt_model)"
      ],
      "metadata": {
        "id": "MbeINN_-40oJ"
      },
      "execution_count": null,
      "outputs": []
    },
    {
      "cell_type": "code",
      "source": [
        "# Display the Error\n",
        "print(\"Mean Sqaured Error : {}\".format(dt_msr))\n",
        "print(\"Mean Absolute Error : {}\".format(dt_mae))"
      ],
      "metadata": {
        "colab": {
          "base_uri": "https://localhost:8080/"
        },
        "id": "Xcd6WEVi470h",
        "outputId": "d6c71d19-65dd-41e7-d922-06d0773a1435"
      },
      "execution_count": null,
      "outputs": [
        {
          "output_type": "stream",
          "name": "stdout",
          "text": [
            "Mean Sqaured Error : 829653.2007952286\n",
            "Mean Absolute Error : 226.39761431411532\n"
          ]
        }
      ]
    },
    {
      "cell_type": "markdown",
      "source": [
        "**K Neighbours Model**"
      ],
      "metadata": {
        "id": "Sklysl1C5I-t"
      }
    },
    {
      "cell_type": "code",
      "source": [
        "# Import the Decision Tree\n",
        "from sklearn.neighbors import KNeighborsRegressor\n",
        "# Create the Object\n",
        "\n",
        "knn_model = KNeighborsRegressor()\n",
        "\n",
        "# Call the Function\n",
        "knn_model ,knnt_prediction , knn_msr , knn_mae = train_model(xTrain , yTrain , xTest , yTest,  knn_model)"
      ],
      "metadata": {
        "id": "AVZGaJoA5INQ"
      },
      "execution_count": null,
      "outputs": []
    },
    {
      "cell_type": "code",
      "source": [
        "# Display the Error\n",
        "print(\"Mean Sqaured Error : {}\".format(knn_msr))\n",
        "print(\"Mean Absolute Error : {}\".format(knn_mae))"
      ],
      "metadata": {
        "colab": {
          "base_uri": "https://localhost:8080/"
        },
        "id": "ZoVbKa965NuR",
        "outputId": "6ee2a2f9-4a64-4ca2-b62a-dbfcda0c41c5"
      },
      "execution_count": null,
      "outputs": [
        {
          "output_type": "stream",
          "name": "stdout",
          "text": [
            "Mean Sqaured Error : 755842.3313717693\n",
            "Mean Absolute Error : 211.84930417495033\n"
          ]
        }
      ]
    },
    {
      "cell_type": "markdown",
      "source": [
        "**Evaluation Metric for ML Models**"
      ],
      "metadata": {
        "id": "h4-HEXZS5d3n"
      }
    },
    {
      "cell_type": "code",
      "source": [
        "# Import the Modules\n",
        "import matplotlib.pyplot as plt\n",
        "import seaborn as sns\n",
        "\n",
        "# Define the Models Name\n",
        "modelName = [\"Linear Regressor\", \"KNeighbours Regressor\", \"Decision Tree Regressor\", \"Random Forest Regressor\"]\n",
        "\n",
        "# Define the Error of the Each Models (assuming these variables are defined elsewhere)\n",
        "errorTypes = [\"Mean Squared Error\", \"Mean Absolute Error\"]\n",
        "errorModels = [\n",
        "    [lr_msr, lr_mae],\n",
        "    [knn_msr, knn_mae],\n",
        "    [dt_msr, dt_mae],\n",
        "    [rf_msr, rf_mae]\n",
        "]\n",
        "\n",
        "# Create a DataFrame to hold the data\n",
        "data = pd.DataFrame(errorModels, columns=errorTypes, index=modelName)\n",
        "\n",
        "# Melt the DataFrame to convert it to long format for seaborn\n",
        "data_melted = data.reset_index().melt(id_vars='index', var_name='Error Type', value_name='Error')\n",
        "\n",
        "# Plot using seaborn\n",
        "plt.figure(figsize=(5, 4))\n",
        "sns.barplot(y='index', x='Error', hue='Error Type', data=data_melted)\n",
        "plt.xlabel('Error', fontweight='bold')\n",
        "plt.ylabel('Models')\n",
        "plt.title('Error Comparison of Different Models')\n",
        "plt.xticks(rotation=45)\n",
        "plt.legend(title='Error Type')\n",
        "plt.show()"
      ],
      "metadata": {
        "colab": {
          "base_uri": "https://localhost:8080/",
          "height": 412
        },
        "id": "8OYfhAmt5cer",
        "outputId": "30084075-8090-4aa7-ef30-5b02a31a2841"
      },
      "execution_count": null,
      "outputs": [
        {
          "output_type": "display_data",
          "data": {
            "text/plain": [
              "<Figure size 500x400 with 1 Axes>"
            ],
            "image/png": "[encoded data removed]"
          },
          "metadata": {}
        }
      ]
    },
    {
      "cell_type": "code",
      "source": [],
      "metadata": {
        "id": "1GTbPDuk6VIt"
      },
      "execution_count": null,
      "outputs": []
    }
  ]
}